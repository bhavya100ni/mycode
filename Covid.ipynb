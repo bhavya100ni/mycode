{
  "nbformat": 4,
  "nbformat_minor": 0,
  "metadata": {
    "colab": {
      "name": "Covid.ipynb",
      "provenance": [],
      "authorship_tag": "ABX9TyPGa6xM5/kKGdA4MgJ6+LYf",
      "include_colab_link": true
    },
    "kernelspec": {
      "name": "python3",
      "display_name": "Python 3"
    },
    "language_info": {
      "name": "python"
    }
  },
  "cells": [
    {
      "cell_type": "markdown",
      "metadata": {
        "id": "view-in-github",
        "colab_type": "text"
      },
      "source": [
        "<a href=\"https://colab.research.google.com/github/bhavya100ni/mycode/blob/master/Covid.ipynb\" target=\"_parent\"><img src=\"https://colab.research.google.com/assets/colab-badge.svg\" alt=\"Open In Colab\"/></a>"
      ]
    },
    {
      "cell_type": "code",
      "metadata": {
        "colab": {
          "base_uri": "https://localhost:8080/"
        },
        "id": "iELJ4ZRGG1fe",
        "outputId": "51c47183-a121-4114-9a3c-2a2c25f2799e"
      },
      "source": [
        "import pandas as pd \n",
        "# extracts data and presents in tabular data\n",
        "#visualization libraries\n",
        "import matplotlib.pyplot as plt\n",
        "#for creating figure\n",
        "%matplotlib inline#doesn't produce your visualization in different window but in same window\n",
        "import seaborn as sns\n",
        "import plotly.express as ps\n",
        "import plotly.graph_objects as go\n",
        "import folium \n",
        "#for populating maps\n",
        "from folium import plugins\n",
        "#manipulating the default plot size\n",
        "plt.rcParams['figure.figsize'] =10,12\n",
        "#disable warnings\n",
        "import warnings\n",
        "warnings.fi\n",
        "#disable warnings\n",
        "import warnings\n",
        "warnings.filterwarnings('ignore')"
      ],
      "execution_count": null,
      "outputs": [
        {
          "output_type": "stream",
          "text": [
            "UsageError: unrecognized arguments: produce your visualization in different window but in same window\n"
          ],
          "name": "stderr"
        }
      ]
    }
  ]
}